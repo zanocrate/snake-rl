{
 "cells": [
  {
   "cell_type": "code",
   "execution_count": 1,
   "id": "820ada4f",
   "metadata": {},
   "outputs": [],
   "source": [
    "import numpy as np\n",
    "import torch\n",
    "from src.env import SnakeEnv\n",
    "\n",
    "env = SnakeEnv(history_length=3,width=10,height=10,action_space_type='relative')"
   ]
  },
  {
   "cell_type": "code",
   "execution_count": 2,
   "id": "407497f8",
   "metadata": {},
   "outputs": [
    {
     "data": {
      "text/plain": [
       "torch.Size([2, 3, 10, 10])"
      ]
     },
     "execution_count": 2,
     "metadata": {},
     "output_type": "execute_result"
    }
   ],
   "source": [
    "obs,_=env.reset(81)\n",
    "obs,r,done,_=env.step(2)\n",
    "obs,r,done,_=env.step(2)\n",
    "x = torch.Tensor(obs).unsqueeze(0) # add batch dimension\n",
    "obs,r,done,_=env.step(1)\n",
    "y = torch.Tensor(obs).unsqueeze(0)\n",
    "z = torch.cat((x,y))\n",
    "z.shape # a batch of 2 samples"
   ]
  },
  {
   "cell_type": "code",
   "execution_count": 3,
   "id": "2000e1f9",
   "metadata": {},
   "outputs": [
    {
     "name": "stdout",
     "output_type": "stream",
     "text": [
      "tensor([[0, 2, 6],\n",
      "        [1, 2, 6]])\n",
      "torch.Size([2, 3])\n"
     ]
    },
    {
     "data": {
      "text/plain": [
       "tensor([[2, 6],\n",
       "        [2, 6]])"
      ]
     },
     "execution_count": 3,
     "metadata": {},
     "output_type": "execute_result"
    }
   ],
   "source": [
    "print(torch.argwhere(z[:,0,:,:] == -1))\n",
    "print(torch.argwhere(z[:,0,:,:] == -1).shape)\n",
    "# first index says where in the batch dim\n",
    "# second index says where in the width dim\n",
    "# third index says where in the height dim\n",
    "# now just forget about the first entry of the last dimension\n",
    "food_coord=torch.argwhere(z[:,0,:,:] == -1)[:,1:]\n",
    "food_coord"
   ]
  },
  {
   "cell_type": "code",
   "execution_count": 4,
   "id": "ec41dcbe",
   "metadata": {
    "scrolled": false
   },
   "outputs": [
    {
     "name": "stdout",
     "output_type": "stream",
     "text": [
      "First batch:\n",
      " tensor([[[ 0.,  0.,  0.,  0.,  0.,  0.,  0.,  0.,  0.,  0.],\n",
      "         [ 0.,  0.,  0.,  1.,  0.,  0.,  0.,  0.,  0.,  0.],\n",
      "         [ 0.,  0.,  0.,  0.,  0.,  0., -1.,  0.,  0.,  0.],\n",
      "         [ 0.,  0.,  0.,  0.,  0.,  0.,  0.,  0.,  0.,  0.],\n",
      "         [ 0.,  0.,  0.,  0.,  0.,  0.,  0.,  0.,  0.,  0.],\n",
      "         [ 0.,  0.,  0.,  0.,  0.,  0.,  0.,  0.,  0.,  0.],\n",
      "         [ 0.,  0.,  0.,  0.,  0.,  0.,  0.,  0.,  0.,  0.],\n",
      "         [ 0.,  0.,  0.,  0.,  0.,  0.,  0.,  0.,  0.,  0.],\n",
      "         [ 0.,  0.,  0.,  0.,  0.,  0.,  0.,  0.,  0.,  0.],\n",
      "         [ 0.,  0.,  0.,  0.,  0.,  0.,  0.,  0.,  0.,  0.]],\n",
      "\n",
      "        [[ 0.,  0.,  0.,  0.,  0.,  0.,  0.,  0.,  0.,  0.],\n",
      "         [ 0.,  0.,  0.,  0.,  1.,  0.,  0.,  0.,  0.,  0.],\n",
      "         [ 0.,  0.,  0.,  0.,  0.,  0., -1.,  0.,  0.,  0.],\n",
      "         [ 0.,  0.,  0.,  0.,  0.,  0.,  0.,  0.,  0.,  0.],\n",
      "         [ 0.,  0.,  0.,  0.,  0.,  0.,  0.,  0.,  0.,  0.],\n",
      "         [ 0.,  0.,  0.,  0.,  0.,  0.,  0.,  0.,  0.,  0.],\n",
      "         [ 0.,  0.,  0.,  0.,  0.,  0.,  0.,  0.,  0.,  0.],\n",
      "         [ 0.,  0.,  0.,  0.,  0.,  0.,  0.,  0.,  0.,  0.],\n",
      "         [ 0.,  0.,  0.,  0.,  0.,  0.,  0.,  0.,  0.,  0.],\n",
      "         [ 0.,  0.,  0.,  0.,  0.,  0.,  0.,  0.,  0.,  0.]],\n",
      "\n",
      "        [[ 0.,  0.,  0.,  0.,  1.,  0.,  0.,  0.,  0.,  0.],\n",
      "         [ 0.,  0.,  0.,  0.,  0.,  0.,  0.,  0.,  0.,  0.],\n",
      "         [ 0.,  0.,  0.,  0.,  0.,  0., -1.,  0.,  0.,  0.],\n",
      "         [ 0.,  0.,  0.,  0.,  0.,  0.,  0.,  0.,  0.,  0.],\n",
      "         [ 0.,  0.,  0.,  0.,  0.,  0.,  0.,  0.,  0.,  0.],\n",
      "         [ 0.,  0.,  0.,  0.,  0.,  0.,  0.,  0.,  0.,  0.],\n",
      "         [ 0.,  0.,  0.,  0.,  0.,  0.,  0.,  0.,  0.,  0.],\n",
      "         [ 0.,  0.,  0.,  0.,  0.,  0.,  0.,  0.,  0.,  0.],\n",
      "         [ 0.,  0.,  0.,  0.,  0.,  0.,  0.,  0.,  0.,  0.],\n",
      "         [ 0.,  0.,  0.,  0.,  0.,  0.,  0.,  0.,  0.,  0.]]])\n",
      "Second batch:\n",
      " tensor([[[ 0.,  0.,  0.,  0.,  0.,  0.,  0.,  0.,  0.,  0.],\n",
      "         [ 0.,  0.,  1.,  0.,  0.,  0.,  0.,  0.,  0.,  0.],\n",
      "         [ 0.,  0.,  0.,  0.,  0.,  0., -1.,  0.,  0.,  0.],\n",
      "         [ 0.,  0.,  0.,  0.,  0.,  0.,  0.,  0.,  0.,  0.],\n",
      "         [ 0.,  0.,  0.,  0.,  0.,  0.,  0.,  0.,  0.,  0.],\n",
      "         [ 0.,  0.,  0.,  0.,  0.,  0.,  0.,  0.,  0.,  0.],\n",
      "         [ 0.,  0.,  0.,  0.,  0.,  0.,  0.,  0.,  0.,  0.],\n",
      "         [ 0.,  0.,  0.,  0.,  0.,  0.,  0.,  0.,  0.,  0.],\n",
      "         [ 0.,  0.,  0.,  0.,  0.,  0.,  0.,  0.,  0.,  0.],\n",
      "         [ 0.,  0.,  0.,  0.,  0.,  0.,  0.,  0.,  0.,  0.]],\n",
      "\n",
      "        [[ 0.,  0.,  0.,  0.,  0.,  0.,  0.,  0.,  0.,  0.],\n",
      "         [ 0.,  0.,  0.,  1.,  0.,  0.,  0.,  0.,  0.,  0.],\n",
      "         [ 0.,  0.,  0.,  0.,  0.,  0., -1.,  0.,  0.,  0.],\n",
      "         [ 0.,  0.,  0.,  0.,  0.,  0.,  0.,  0.,  0.,  0.],\n",
      "         [ 0.,  0.,  0.,  0.,  0.,  0.,  0.,  0.,  0.,  0.],\n",
      "         [ 0.,  0.,  0.,  0.,  0.,  0.,  0.,  0.,  0.,  0.],\n",
      "         [ 0.,  0.,  0.,  0.,  0.,  0.,  0.,  0.,  0.,  0.],\n",
      "         [ 0.,  0.,  0.,  0.,  0.,  0.,  0.,  0.,  0.,  0.],\n",
      "         [ 0.,  0.,  0.,  0.,  0.,  0.,  0.,  0.,  0.,  0.],\n",
      "         [ 0.,  0.,  0.,  0.,  0.,  0.,  0.,  0.,  0.,  0.]],\n",
      "\n",
      "        [[ 0.,  0.,  0.,  0.,  0.,  0.,  0.,  0.,  0.,  0.],\n",
      "         [ 0.,  0.,  0.,  0.,  1.,  0.,  0.,  0.,  0.,  0.],\n",
      "         [ 0.,  0.,  0.,  0.,  0.,  0., -1.,  0.,  0.,  0.],\n",
      "         [ 0.,  0.,  0.,  0.,  0.,  0.,  0.,  0.,  0.,  0.],\n",
      "         [ 0.,  0.,  0.,  0.,  0.,  0.,  0.,  0.,  0.,  0.],\n",
      "         [ 0.,  0.,  0.,  0.,  0.,  0.,  0.,  0.,  0.,  0.],\n",
      "         [ 0.,  0.,  0.,  0.,  0.,  0.,  0.,  0.,  0.,  0.],\n",
      "         [ 0.,  0.,  0.,  0.,  0.,  0.,  0.,  0.,  0.,  0.],\n",
      "         [ 0.,  0.,  0.,  0.,  0.,  0.,  0.,  0.,  0.,  0.],\n",
      "         [ 0.,  0.,  0.,  0.,  0.,  0.,  0.,  0.,  0.,  0.]]])\n"
     ]
    }
   ],
   "source": [
    "print(\"First batch:\\n\",z[0])\n",
    "print(\"Second batch:\\n\",z[1])\n",
    "# how to get the head movement from this?"
   ]
  },
  {
   "cell_type": "code",
   "execution_count": 5,
   "id": "eac14620",
   "metadata": {},
   "outputs": [
    {
     "data": {
      "text/plain": [
       "tensor([[1, 3],\n",
       "        [1, 2]])"
      ]
     },
     "execution_count": 5,
     "metadata": {},
     "output_type": "execute_result"
    }
   ],
   "source": [
    "# frame == 1 tells us where the snake is; logical or between that of 0 and 1 frames tells us the union\n",
    "# intersect the union with the 0 frame using a logical and we grab the head\n",
    "head_coord_bool=torch.logical_and(torch.logical_or(z[:,0,:,:]==1 ,z[:,1,:,:]==1),z[:,0,:,:]==1)\n",
    "\n",
    "# finally grab the coordinates\n",
    "head_coord=torch.argwhere(head_coord_bool==1)[:,1:] # shaped like (batch_size,2)\n",
    "head_coord"
   ]
  },
  {
   "cell_type": "code",
   "execution_count": 6,
   "id": "e4b798a5",
   "metadata": {},
   "outputs": [
    {
     "data": {
      "text/plain": [
       "tensor([[ 0, -1],\n",
       "        [ 0, -1]])"
      ]
     },
     "execution_count": 6,
     "metadata": {},
     "output_type": "execute_result"
    }
   ],
   "source": [
    "# now we want to grab the direction, so basically (dx,dy)\n",
    "prev_head_coord_bool=torch.logical_and(torch.logical_or(z[:,1,:,:]==1 ,z[:,2,:,:]==1),z[:,1,:,:]==1)\n",
    "prev_head_coord=torch.argwhere(prev_head_coord_bool==1)[:,1:]\n",
    "direction = (head_coord - prev_head_coord).to(int)\n",
    "direction"
   ]
  },
  {
   "cell_type": "code",
   "execution_count": 7,
   "id": "f18c890a",
   "metadata": {},
   "outputs": [
    {
     "data": {
      "text/plain": [
       "tensor([[[ 0.,  0.,  0.,  0.,  0.,  0.,  0.,  0.,  0.,  0.],\n",
       "         [ 0.,  0.,  0.,  1.,  0.,  0.,  0.,  0.,  0.,  0.],\n",
       "         [ 0.,  0.,  0.,  0.,  0.,  0., -1.,  0.,  0.,  0.],\n",
       "         [ 0.,  0.,  0.,  0.,  0.,  0.,  0.,  0.,  0.,  0.],\n",
       "         [ 0.,  0.,  0.,  0.,  0.,  0.,  0.,  0.,  0.,  0.],\n",
       "         [ 0.,  0.,  0.,  0.,  0.,  0.,  0.,  0.,  0.,  0.],\n",
       "         [ 0.,  0.,  0.,  0.,  0.,  0.,  0.,  0.,  0.,  0.],\n",
       "         [ 0.,  0.,  0.,  0.,  0.,  0.,  0.,  0.,  0.,  0.],\n",
       "         [ 0.,  0.,  0.,  0.,  0.,  0.,  0.,  0.,  0.,  0.],\n",
       "         [ 0.,  0.,  0.,  0.,  0.,  0.,  0.,  0.,  0.,  0.]],\n",
       "\n",
       "        [[ 0.,  0.,  0.,  0.,  0.,  0.,  0.,  0.,  0.,  0.],\n",
       "         [ 0.,  0.,  0.,  0.,  1.,  0.,  0.,  0.,  0.,  0.],\n",
       "         [ 0.,  0.,  0.,  0.,  0.,  0., -1.,  0.,  0.,  0.],\n",
       "         [ 0.,  0.,  0.,  0.,  0.,  0.,  0.,  0.,  0.,  0.],\n",
       "         [ 0.,  0.,  0.,  0.,  0.,  0.,  0.,  0.,  0.,  0.],\n",
       "         [ 0.,  0.,  0.,  0.,  0.,  0.,  0.,  0.,  0.,  0.],\n",
       "         [ 0.,  0.,  0.,  0.,  0.,  0.,  0.,  0.,  0.,  0.],\n",
       "         [ 0.,  0.,  0.,  0.,  0.,  0.,  0.,  0.,  0.,  0.],\n",
       "         [ 0.,  0.,  0.,  0.,  0.,  0.,  0.,  0.,  0.,  0.],\n",
       "         [ 0.,  0.,  0.,  0.,  0.,  0.,  0.,  0.,  0.,  0.]]])"
      ]
     },
     "execution_count": 7,
     "metadata": {},
     "output_type": "execute_result"
    }
   ],
   "source": [
    "# look at the first batch sample:\n",
    "# this is in the reference frame of the board, telling us that the food is\n",
    "# [1 step in the positive x axis, 3 in the positive y axis]\n",
    "# but the snake is going toward [0,-1] (negative y axis)\n",
    "z[0][:2]"
   ]
  },
  {
   "cell_type": "code",
   "execution_count": 8,
   "id": "40ba8623",
   "metadata": {},
   "outputs": [
    {
     "name": "stdout",
     "output_type": "stream",
     "text": [
      "tensor([[1, 3],\n",
      "        [1, 4]])\n",
      "tensor([[-3,  1],\n",
      "        [-4,  1]])\n"
     ]
    }
   ],
   "source": [
    "# now we define the vector that is the difference between the head and the food\n",
    "diff = food_coord - head_coord\n",
    "print(diff)\n",
    "\n",
    "# if we define the snake to have x axis as the direction he's going to and y the lateral axis,with positive y going left\n",
    "# then the food is actually one step to the left and 3 steps backward, so [-3,1]\n",
    "\n",
    "# so define the transformation as k successive 90 degrees rotation ccw until the direction of the snake coincides with [1,0]\n",
    "rotation_matrix_90ccw = torch.Tensor([[0,-1],[1,0]]).to(int)\n",
    "rotation_matrix_90cw = torch.Tensor([[0,1],[-1,0]]).to(int) # for later use\n",
    "\n",
    "\n",
    "# now, since each sample might need to be rotated a different number of times, there is no easy way to vectorize\n",
    "# the matrix multiplication to vectors... i cant multiply the same rotation to every vector\n",
    "# we need a for loop\n",
    "\n",
    "for b in range(z.shape[0]):\n",
    "    k=0\n",
    "    while not torch.eq(torch.linalg.matrix_power(rotation_matrix_90ccw,k) @ direction[b],torch.Tensor([1,0])).all():\n",
    "        k+=1\n",
    "    diff[b] = torch.linalg.matrix_power(rotation_matrix_90ccw,k) @ diff[b]\n",
    "\n",
    "# as expected\n",
    "print(diff)"
   ]
  },
  {
   "cell_type": "code",
   "execution_count": 9,
   "id": "4ac74990",
   "metadata": {},
   "outputs": [
    {
     "data": {
      "text/plain": [
       "tensor([[8., 3., 1.],\n",
       "        [8., 2., 1.]])"
      ]
     },
     "execution_count": 9,
     "metadata": {},
     "output_type": "execute_result"
    }
   ],
   "source": [
    "# now to grab the number of free cells available until a wall is met in each direction:\n",
    "# a for loop here is needed as well along the batch size...\n",
    "\n",
    "# initialize a tensor of shape (batch_size,3)\n",
    "\n",
    "free_cells = torch.zeros((z.shape[0],3))\n",
    "\n",
    "for b in range(z.shape[0]):\n",
    "    \n",
    "    directions = [\n",
    "        rotation_matrix_90ccw @ direction[b],\n",
    "        direction[b],\n",
    "        rotation_matrix_90cw @ direction[b]\n",
    "    ]\n",
    "    for idd,d in enumerate(directions):\n",
    "        \n",
    "        k=1\n",
    "        cell = head_coord[b] + k*d\n",
    "        index = tuple(torch.cat((torch.Tensor([b,0]),cell)).to(int))\n",
    "        while (z[index] == 0 or z[index] == -1)\\\n",
    "        and cell[0] in range(z.shape[2])\\\n",
    "        and cell[1] in range(z.shape[3]):\n",
    "            index = tuple(torch.cat((torch.Tensor([b,0]),cell)).to(int))\n",
    "            k+=1\n",
    "            cell = head_coord[b] + k*d\n",
    "\n",
    "        free_cells[b,idd] = k-1\n",
    "        \n",
    "    \n",
    "free_cells"
   ]
  },
  {
   "cell_type": "code",
   "execution_count": 10,
   "id": "0963a536",
   "metadata": {},
   "outputs": [
    {
     "name": "stdout",
     "output_type": "stream",
     "text": [
      "tensor([[8., 3., 1.],\n",
      "        [8., 2., 1.]])\n",
      "tensor([[-3,  1],\n",
      "        [-4,  1]])\n"
     ]
    }
   ],
   "source": [
    "# now we have our 3+2 built features:\n",
    "# the vector of the direction of the food relative to the snake (2 features)\n",
    "# and the number of free cells along any possible direction that can be taken (3 features)\n",
    "\n",
    "print(free_cells)\n",
    "print(diff)"
   ]
  },
  {
   "cell_type": "code",
   "execution_count": 11,
   "id": "fa6ac028",
   "metadata": {},
   "outputs": [
    {
     "data": {
      "text/plain": [
       "tensor([[ 8.,  3.,  1., -3.,  1.],\n",
       "        [ 8.,  2.,  1., -4.,  1.]])"
      ]
     },
     "execution_count": 11,
     "metadata": {},
     "output_type": "execute_result"
    }
   ],
   "source": [
    "# concatenate them in a (batch_size,5) tensor\n",
    "torch.cat((free_cells,diff),1)"
   ]
  },
  {
   "cell_type": "code",
   "execution_count": 12,
   "id": "2fc5b0b5",
   "metadata": {},
   "outputs": [],
   "source": [
    "from src.models.NN_custom_features import DQN"
   ]
  },
  {
   "cell_type": "code",
   "execution_count": 13,
   "id": "f92b36bf",
   "metadata": {},
   "outputs": [
    {
     "data": {
      "text/plain": [
       "tensor([[-1.1590, -1.0395, -1.0871],\n",
       "        [-1.1927, -0.7780, -1.2228]], grad_fn=<AddmmBackward0>)"
      ]
     },
     "execution_count": 13,
     "metadata": {},
     "output_type": "execute_result"
    }
   ],
   "source": [
    "model = DQN(3)\n",
    "model(z)"
   ]
  },
  {
   "cell_type": "code",
   "execution_count": null,
   "id": "1631a053",
   "metadata": {},
   "outputs": [],
   "source": []
  }
 ],
 "metadata": {
  "kernelspec": {
   "display_name": "Python 3 (ipykernel)",
   "language": "python",
   "name": "python3"
  },
  "language_info": {
   "codemirror_mode": {
    "name": "ipython",
    "version": 3
   },
   "file_extension": ".py",
   "mimetype": "text/x-python",
   "name": "python",
   "nbconvert_exporter": "python",
   "pygments_lexer": "ipython3",
   "version": "3.9.12"
  }
 },
 "nbformat": 4,
 "nbformat_minor": 5
}
