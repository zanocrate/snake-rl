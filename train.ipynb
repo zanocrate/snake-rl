{
 "cells": [
  {
   "cell_type": "code",
   "execution_count": 118,
   "metadata": {},
   "outputs": [],
   "source": [
    "# importing cell\n",
    "from env import *\n",
    "import numpy as np\n",
    "\n",
    "import torch\n",
    "import torch.nn as nn\n",
    "from torch.utils.data import Dataset\n",
    "from torch.utils.data import DataLoader\n",
    "\n",
    "import matplotlib.pyplot as plt"
   ]
  },
  {
   "cell_type": "markdown",
   "metadata": {},
   "source": [
    "# Deep Reinforcement Learning for Snake\n",
    "\n",
    "## The environment\n",
    "\n",
    "The `SnakeEnv` is defined in `env.py`. It takes as arguments a render mode implemented with `pygame` (which we set here to `None`), a wdith and height parameter, a `periodic` flag to allow PBC, and an `observation_type` parameter, which determines if the observation is a simple matrix of -1, 0 and 1 or both the matrix and a direction one-hot encoded vector. \n",
    "\n",
    "We choose to have the screen state as the output only, and build a neural network that feeds of a sequence of states (as we will describe later), to see if the neural network understands the concept of direction."
   ]
  },
  {
   "cell_type": "code",
   "execution_count": 79,
   "metadata": {},
   "outputs": [
    {
     "name": "stdout",
     "output_type": "stream",
     "text": [
      "[[ 0  0  0  0  0  0  0  0  0  0  0  0  0  0  0]\n",
      " [ 0  0  0  0  0  0  0  0  0  0  0  0  0  0  0]\n",
      " [ 0  0  0  0  0  0  0  0  0  0  0  0  0  0  0]\n",
      " [ 0  0  0  0  0  0  0  0  0  0  0  0  0  0  0]\n",
      " [ 0  0  0  0  0  0  0  0  0  0  0  0  0  0  0]\n",
      " [ 0  0  0  0 -1  0  0  0  0  0  0  0  0  0  0]\n",
      " [ 0  0  0  0  0  0  0  0  0  0  0  0  0  0  0]\n",
      " [ 0  0  0  0  0  0  0  0  0  0  0  0  0  0  0]\n",
      " [ 0  0  0  0  0  0  0  0  0  0  0  0  0  0  0]\n",
      " [ 0  0  0  0  0  0  0  0  0  0  0  0  0  0  0]\n",
      " [ 0  0  0  0  0  0  0  0  0  0  0  0  0  0  0]\n",
      " [ 0  0  0  0  0  0  0  0  0  0  0  0  0  0  0]\n",
      " [ 0  0  0  0  0  0  0  0  0  0  0  0  0  0  0]\n",
      " [ 0  0  0  0  0  0  0  0  0  0  0  0  0  0  0]\n",
      " [ 0  0  0  0  0  0  1  0  0  0  0  0  0  0  0]]\n"
     ]
    },
    {
     "data": {
      "image/png": "[encoded data removed]",
      "text/plain": [
       "<Figure size 640x480 with 2 Axes>"
      ]
     },
     "metadata": {},
     "output_type": "display_data"
    }
   ],
   "source": [
    "WIDTH = 15\n",
    "HEIGHT = 15\n",
    "\n",
    "env = SnakeEnv(\n",
    "    render_mode=None,\n",
    "    width=WIDTH,\n",
    "    height=HEIGHT,\n",
    "    periodic=False,\n",
    "    observation_type=1 # this returns only the screen\n",
    ")\n",
    "\n",
    "obs,_ = env.reset()\n",
    "print(obs)\n",
    "# 1 is the snake, -1 is the food\n",
    "plt.imshow(obs,cmap='viridis')\n",
    "plt.colorbar()\n",
    "plt.title('Screen')\n",
    "plt.show()"
   ]
  },
  {
   "cell_type": "markdown",
   "metadata": {},
   "source": [
    "## The goal\n",
    "\n",
    "We take ideas from the <a href=\"https://arxiv.org/pdf/1312.5602.pdf\">Playing Atari with Deep Reinforcement Learning</a> paper. The idea is, always in RL, to approximate and learn the optimal action-value function $Q^*(s,a)$ which is defined as\n",
    "\n",
    "\\begin{equation*}\n",
    "Q^*(s,a) := \\max_{\\pi} \\mathbb{E} \\left [ R_t | s_t = s,a_t=a,\\pi \\right ]\n",
    "\\tag{1}\n",
    "\\end{equation*}\n",
    "\n",
    "That is, the optimal value for an action given a certain state is the expected return of taking that action in that state, assuming an ideal policy that maximizes such expected return.\n",
    "The return is defined as the sum of all rewards from time $t$ up to the end of the episode, discounted with a factor $\\gamma$ that regulates the importance of rewards far away in the future: $R_t = \\sum_{t'=t}^T \\gamma^{t' - t}r_{t'}$. With this definition, and by defining the environment as $\\mathcal{E}$, we can rewrite the definition of $Q^*$, using the fundamental recurrence relation that is known as _Bellman's optimality equation_:\n",
    "\n",
    "\\begin{equation*}\n",
    "Q^*(s,a) = \\mathbb{E}_{s' \\sim \\mathcal{E}} \\left [ r + \\gamma \\max_{a'} Q^*(s',a') | s,a \\right ]\n",
    "\\tag{2}\n",
    "\\end{equation*}\n",
    "\n",
    "In cases where this is computationally feasible, one would often implement the _value iteration algorithm_ by using the equation (2) as a update rule to find the policy that maximizes the value for each state. But that would require keeping a table of values for each $(s,a)$ pair; that is, in many cases, intractable, so an alternative is to use an _approximation_ of the function $Q^*(s,a)$ that computes the value given a certain state using a number of paramters which hopefully is much smaller than the cardinality of the set of all possible states and actions."
   ]
  },
  {
   "cell_type": "markdown",
   "metadata": {},
   "source": [
    "\n",
    "## Q-network\n",
    "\n",
    "In our case, the approximation function is a Convolutional Neural Network (CNN) that feeds on the screen of the game (a 2D matrix of integers). We refer to the neural network function approximator as **Q-network** with weights $\\theta$.\n",
    "\n",
    "#### History of states\n",
    "\n",
    "But how do we include the information that comes from the snake that is moving? A wall that is 2 steps ahead may be gone by the time the head reaches it. We could encode the information via a numbering system of the pieces of the snake? Or we could follow the prescription of the Atari paper, i.e. the current situation at time $t$ is not fully understood by the screen $x_t$, but by the sequence of states that occurred before. \n",
    "\n",
    "Therefore we feed the network not just $x_t$, but an observation of a sequence $s_t = x_{t-k},x_{t-k+1},\\dots,x_t$. The Atari paper set $k=4$, i.e. fed the 4 most recent frames to the network.\n",
    "\n",
    "#### Action as input or output?\n",
    "\n",
    "When modeling the function $Q(s,a)$, should the action $a$ be fed as an input like the state $s$? That would be coherent with the mathematical formulation, but it would be complicated since we need to mix convolutional features with this parameter, and also computationally disadvantageous, since to compute the value for every single action we need to feed forward every time. What we can do instead is to build the network to have $n_a$ output neurons, one for each action, given a certain state.\n",
    "\n",
    "#### `PyTorch` implementation\n",
    "\n",
    "We will use the [PyTorch](https://pytorch.org/) library to build the neural network. We will stack several [convolutional layers](https://pytorch.org/docs/stable/generated/torch.nn.Conv2d.html) with different number of kernels, with a final [feed forward hidden layer](https://pytorch.org/docs/stable/generated/torch.nn.Linear.html) to model the $Q(s,a)$."
   ]
  },
  {
   "cell_type": "code",
   "execution_count": 90,
   "metadata": {},
   "outputs": [],
   "source": [
    "class DQN(nn.Module):\n",
    "    \"\"\"\n",
    "    Class for the Neural Network of the Q value function.\n",
    "    \"\"\"\n",
    "    def __init__(self):\n",
    "        super(DQN, self).__init__()\n",
    "\n",
    "        # a first layer with narrow filters to identify walls, corners, dead ends...\n",
    "        # returns (w-2)x(h-2) when padding is 'valid'\n",
    "        self.conv1 = nn.Conv2d(\n",
    "            in_channels=4, # the number of states fed\n",
    "            out_channels=15, # the number of kernels\n",
    "            kernel_size=3, # a single int means square kernel\n",
    "            stride=1, # it's the default: no skipping\n",
    "            padding='valid', # no padding\n",
    "            # dilation=1, #this expands the filter without augmenting the parameters... to identify spatially large patterns with less parameters\n",
    "            # groups=1, # determines the connection between input channels and output channels\n",
    "            # bias=True\n",
    "            # padding_mode='circular' # revert to default which is zeroes... circular breaks it\n",
    "        )\n",
    "        \n",
    "        # non linear activation\n",
    "        self.activation1 = nn.ReLU()\n",
    "        \n",
    "        # a larger kernel size to identify bigger configurations of smaller patterns?\n",
    "        # since we are at a 13x13 screen, maybe do a 5x5 kernel\n",
    "        self.conv2 = nn.Conv2d(\n",
    "            in_channels=15,\n",
    "            out_channels=15,\n",
    "            kernel_size=7,\n",
    "            stride=4,\n",
    "            padding='valid'\n",
    "        )\n",
    "\n",
    "        self.activation2 = nn.ReLU()\n",
    "\n",
    "        self.conv3 = nn.Conv2d(\n",
    "                in_channels=15,\n",
    "                out_channels=15,\n",
    "                kernel_size=2,\n",
    "                padding='valid',\n",
    "                bias=True\n",
    "            )\n",
    "        \n",
    "        self.activation3 = nn.ReLU()\n",
    "\n",
    "\n",
    "        # now the feed forward layers\n",
    "        self.ffl1 = nn.Linear(\n",
    "            15,\n",
    "            256\n",
    "        )\n",
    "\n",
    "        self.ffl_activation1 = nn.ReLU()\n",
    "\n",
    "        # final layer\n",
    "        self.ffl2= nn.Linear(\n",
    "            256,\n",
    "            4\n",
    "        )\n",
    "\n",
    "\n",
    "    # Called with either one element to determine next action, or a batch\n",
    "    # during optimization. Returns tensor([[left0exp,right0exp]...]).\n",
    "    def forward(self, x):\n",
    "        \n",
    "        x = self.activation1(self.conv1(x))\n",
    "        x = self.activation2(self.conv2(x))\n",
    "        x = self.activation3(self.conv3(x))\n",
    "        x = self.ffl_activation1(self.ffl1(x.flatten(start_dim=1))) # do not drop the batch dimension\n",
    "        x = self.ffl2(x)\n",
    "\n",
    "        return x"
   ]
  },
  {
   "cell_type": "code",
   "execution_count": 93,
   "metadata": {},
   "outputs": [
    {
     "data": {
      "text/plain": [
       "tensor([[-0.1261, -0.0678, -0.1356, -0.0310],\n",
       "        [-0.1261, -0.0678, -0.1356, -0.0310]], grad_fn=<AddmmBackward0>)"
      ]
     },
     "execution_count": 93,
     "metadata": {},
     "output_type": "execute_result"
    }
   ],
   "source": [
    "obs,_=env.reset(seed=1235)\n",
    "\n",
    "# s in an example input of the neural net\n",
    "\n",
    "s = torch.Tensor(obs).reshape(1,15,15)\n",
    "for i in range(3): # perform three steps\n",
    "    obs,reward,terminated,_ = env.step(env.action_space.sample())\n",
    "    s = torch.concat((s,torch.Tensor(obs).reshape(1,15,15)))\n",
    "\n",
    "s = s.reshape(1,4,15,15)\n",
    "\n",
    "# example output on a batch of 2 samples\n",
    "model = DQN()\n",
    "model(torch.concat((s,s)))"
   ]
  },
  {
   "cell_type": "markdown",
   "metadata": {},
   "source": [
    "## Training\n",
    "\n",
    "The Q-network, as previously stated, is an approximation of the more general $Q(s,a)$, for which we cannot know every single value without a functional form (i.e. in a tabular way). Our hope is that the model, given some observed data of the $Q^*(s,a)$, will be able to generalize to unseen states. $Q_{\\pi}(s,a)$ is the expected return in a state given an action when following a policy $\\pi$; when $\\pi$ is assumed to be the optimal policy (the one that maximizes the return), the $Q^*(s,a)$ obeys the Bellman optimality equation we saw earlier.\n",
    "\n",
    "What is usually done, in tabular approaches, is to estimate the $Q_\\pi$ either via Monte Carlo sampling (running episodes following $\\pi$ and computing the returns) or via bootstrapping using TD methods, so using some level of the Bellman equation like \n",
    "\\begin{equation*}\n",
    "Q_{i+1}(s,a) = \\mathbb{E}[r + \\gamma \\max_{a'}Q_i(s',a')|s,a]\n",
    "\\tag{2b}\n",
    "\\end{equation*}\n",
    "\n",
    "When the next action is taken to be $\\argmax_{a'} Q(s',a')$, the previous equation estimates $Q$ using an **on-policy** method (SARSA), but more often than not the next action is not taken as a greedy action, but it's usually a *behaviour policy*, like an $\\epsilon$ greedy policy.\n",
    "\n",
    "When we use an approximation of the function $Q$, we need to fit it to the data that represents the return, i.e. we need to minimize the following loss:\n",
    "\n",
    "\\begin{equation*}\n",
    "\n",
    "L_i (\\theta_i) := \\mathbb{E}_{s,a\\sim \\rho (\\cdot)} \\left [ (y_i - Q(s,a;\\theta_i))^2 \\right ]\n",
    "\n",
    "\\tag{3}\n",
    "\\end{equation*}\n",
    "with $y_i$ being the *target*: \n",
    "\\begin{equation*}\n",
    "y_i := \\mathbb{E}_{s' \\sim \\mathcal{E}} \\left [ r + \\gamma \\max_{a'} Q(s',a';\\theta_{i-1}) | s,a \\right ]\n",
    "\\tag{4}\n",
    "\\end{equation*}\n",
    "\n",
    "as we can see, the target depends on the expected reward and the estimation of the next state value given optimality (and NOT the action picked by the behaviour policy!).\n",
    "\n",
    "When computing the gradient to minimize such loss, we have\n",
    "\n",
    "\\begin{equation*}\n",
    "\\nabla_{\\theta_i} L_i (\\theta_i) = \\mathbb{E}_{s,a \\sim \\rho (\\cdot); s' \\sim \\mathcal{E}} \\left [ \\left ( r + \\gamma \\max_{a'} Q(s',a';\\theta_{i-1}) - Q(s,a;\\theta_{i}) \\right ) \\nabla_{\\theta_i} Q(s,a;\\theta_i) \\right ]\n",
    "\\tag{5}\n",
    "\\end{equation*}\n",
    "\n",
    "Typically, the loss is calculated on a dataset of $(s,a,r,s')$, but it is more feasible to compute it on just a subset of it; when the subset consists of a single sample from the behavioural distribution and the environment, and we update the weights each time step, we arrive at the well known *Q-learning* algorithm.\n"
   ]
  },
  {
   "cell_type": "markdown",
   "metadata": {},
   "source": [
    "### Experience replay\n",
    "\n",
    "Instead of using the sequence of $(s,a,r,s')$ as they are generated, we store them in a *replay memory*, from which we randomly sample a minibatch to perform the update in (5). This has several advantages over the standard online Q-learning: first, the transitions are re-used, to allow a greater data efficiency; second, and most important, the stochastic gradient descent works best when the samples of the expectation are i.i.d., which is **not** the case for subsequent states observed in an episode, which are highly correlated.\n",
    "\n",
    "#### Implementation\n",
    "\n",
    "We will implement the replay memory as a `torch.utils.data.Dataset` class, that holds the transitions and supports interaction with `torch.utils.data.DataLoader` for batching and shuffling."
   ]
  },
  {
   "cell_type": "code",
   "execution_count": 95,
   "metadata": {},
   "outputs": [],
   "source": [
    "class ReplayMemory(Dataset):\n",
    "\n",
    "    def __init__(self):\n",
    "        \n",
    "        # init samples as empty lists\n",
    "        self.s = []\n",
    "        self.a = []\n",
    "        self.r = []\n",
    "        self.s2 = []\n",
    "    \n",
    "    def __len__(self):\n",
    "        return len(self.s) # return length of one of the lists\n",
    "    \n",
    "    def __getitem__(self,idx):\n",
    "        \n",
    "        sample = {\n",
    "            's' : self.s[idx],\n",
    "            'a' : self.a[idx],\n",
    "            'r' : self.r[idx],\n",
    "            's2' : self.s2[idx]\n",
    "        }\n",
    "\n",
    "        return sample\n",
    "\n",
    "    def _add_sample(self,s,a,r,s2):\n",
    "        \"\"\"\n",
    "        s and s2 are numpy arrays of shape (history_len,width,height)\n",
    "        a is an int\n",
    "        r is float\n",
    "        \"\"\"\n",
    "        self.s.append(torch.Tensor(s))\n",
    "        self.a.append(a)\n",
    "        self.r.append(r)\n",
    "        self.s2.append(torch.Tensor(s2))"
   ]
  },
  {
   "cell_type": "code",
   "execution_count": 99,
   "metadata": {},
   "outputs": [],
   "source": [
    "a = 2\n",
    "\n",
    "s2,r,done,_ = env.step(a)\n",
    "\n"
   ]
  },
  {
   "cell_type": "code",
   "execution_count": 109,
   "metadata": {},
   "outputs": [],
   "source": [
    "memory = ReplayMemory()\n",
    "\n",
    "memory._add_sample(s,a,r,s2)\n",
    "memory._add_sample(s,a,r,s2)\n",
    "memory._add_sample(s,a,r,s2)\n",
    "\n",
    "memory_loader = DataLoader(memory,batch_size=2)\n",
    "next(iter(memory_loader))['s'].shape"
   ]
  },
  {
   "cell_type": "code",
   "execution_count": null,
   "metadata": {},
   "outputs": [],
   "source": [
    "\n",
    "\n"
   ]
  },
  {
   "cell_type": "code",
   "execution_count": null,
   "metadata": {},
   "outputs": [],
   "source": []
  }
 ],
 "metadata": {
  "kernelspec": {
   "display_name": "Python 3.9.12 ('base': conda)",
   "language": "python",
   "name": "python3"
  },
  "language_info": {
   "codemirror_mode": {
    "name": "ipython",
    "version": 3
   },
   "file_extension": ".py",
   "mimetype": "text/x-python",
   "name": "python",
   "nbconvert_exporter": "python",
   "pygments_lexer": "ipython3",
   "version": "3.8.2"
  },
  "orig_nbformat": 4,
  "vscode": {
   "interpreter": {
    "hash": "caf1c2fcf97217de91eafa76b907d50f9ea378f5ffbee7f571142d119bb6a771"
   }
  }
 },
 "nbformat": 4,
 "nbformat_minor": 2
}
