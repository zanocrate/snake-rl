{
 "cells": [
  {
   "cell_type": "code",
   "execution_count": 59,
   "metadata": {},
   "outputs": [],
   "source": [
    "import os\n",
    "\n",
    "os.chdir('/home/ubuntu/snake-rl/')\n",
    "\n",
    "# importing cell\n",
    "from src.env import *\n",
    "import numpy as np\n",
    "\n",
    "from pprint import pprint\n",
    "\n",
    "# progress bar\n",
    "import tqdm\n",
    "\n",
    "# nn\n",
    "import torch.optim as optim\n",
    "from torch.utils.data import Dataset\n",
    "from torch.utils.data import DataLoader\n",
    "from src.models.CNN2_relative import *\n",
    "\n",
    "import matplotlib.pyplot as plt\n",
    "from matplotlib.animation import FuncAnimation\n",
    "\n",
    "from itertools import count\n",
    "import json\n",
    "\n",
    "# if gpu is to be used\n",
    "device = torch.device(\"cuda\" if torch.cuda.is_available() else \"cpu\")"
   ]
  },
  {
   "cell_type": "markdown",
   "metadata": {},
   "source": [
    "# Deep Reinforcement Learning for Snake\n",
    "\n",
    "## The environment\n",
    "\n",
    "The `SnakeEnv` is defined in `env.py`. It takes as arguments a render mode implemented with `pygame` (which we set here to `None`), a width and height parameter, a `periodic` flag to allow PBC, and an `observation_type` parameter, which determines if the observation is a simple matrix of -1, 0 and 1 or both the matrix and a direction one-hot encoded vector. \n",
    "\n",
    "We choose to have the screen state as the output only, and build a neural network that feeds of a sequence of states (as we will describe later), to see if the neural network understands the concept of direction."
   ]
  },
  {
   "cell_type": "code",
   "execution_count": 60,
   "metadata": {},
   "outputs": [
    {
     "name": "stdout",
     "output_type": "stream",
     "text": [
      "{'action_space_type': 'relative',\n",
      " 'food_reward': 1000,\n",
      " 'height': 8,\n",
      " 'history_length': 3,\n",
      " 'max_steps': 500,\n",
      " 'observation_type': 'full',\n",
      " 'periodic': False,\n",
      " 'step_penalty': -1,\n",
      " 'terminated_penalty': -1000,\n",
      " 'width': 8}\n"
     ]
    }
   ],
   "source": [
    "# load config from json file\n",
    "with open('config.json') as f:\n",
    "    config = json.load(f)\n",
    "\n",
    "pprint(config['env'])"
   ]
  },
  {
   "cell_type": "code",
   "execution_count": 29,
   "metadata": {},
   "outputs": [
    {
     "name": "stdout",
     "output_type": "stream",
     "text": [
      "Observation shape:\n",
      "(3, 8, 8)\n",
      "Latest observation:\n",
      "[[ 0  0  0  0  0  0  0  0]\n",
      " [ 0  0  0  0  0  0  0  0]\n",
      " [ 0  0  0  0  0  0  0  0]\n",
      " [ 0  0  0  0  0  0  0  0]\n",
      " [ 0  0  0  0  0  0  0  0]\n",
      " [ 0  0  0  0  0  0  1  0]\n",
      " [ 0 -1  0  0  0  0  0  0]\n",
      " [ 0  0  0  0  0  0  0  0]]\n"
     ]
    },
    {
     "data": {
      "image/png": "[encoded data removed]",
      "text/plain": [
       "<Figure size 640x480 with 3 Axes>"
      ]
     },
     "metadata": {},
     "output_type": "display_data"
    }
   ],
   "source": [
    "env = SnakeEnv(**config['env'])\n",
    "\n",
    "obs,_ = env.reset()\n",
    "print(\"Observation shape:\")\n",
    "print(obs.shape)\n",
    "print(\"Latest observation:\")\n",
    "print(obs[0])\n",
    "\n",
    "fig,axs = plt.subplots(1,config['env']['history_length'])\n",
    "for i,(ax,ob) in enumerate(zip(axs,obs)):\n",
    "    # 1 is the snake, -1 is the food\n",
    "    ax.pcolormesh(ob,cmap='viridis',edgecolors='white',linewidth=0.5)\n",
    "    ax.set_title('$S_{t-'+str(i)+'}$')\n",
    "    ax.set_aspect('equal')\n",
    "\n",
    "\n",
    "plt.suptitle('Screen')\n",
    "plt.show()"
   ]
  },
  {
   "cell_type": "markdown",
   "metadata": {},
   "source": [
    "## The goal\n",
    "\n",
    "We take ideas from the <a href=\"https://arxiv.org/pdf/1312.5602.pdf\">Playing Atari with Deep Reinforcement Learning</a> paper. The idea is, always in RL, to approximate and learn the optimal action-value function $Q^*(s,a)$ which is defined as\n",
    "\n",
    "\\begin{equation*}\n",
    "Q^*(s,a) := \\max_{\\pi} \\mathbb{E} \\left [ R_t | s_t = s,a_t=a,\\pi \\right ]\n",
    "\\tag{1}\n",
    "\\end{equation*}\n",
    "\n",
    "That is, the optimal value for an action given a certain state is the expected return of taking that action in that state, assuming an ideal policy that maximizes such expected return.\n",
    "The return is defined as the sum of all rewards from time $t$ up to the end of the episode, discounted with a factor $\\gamma$ that regulates the importance of rewards far away in the future: $R_t = \\sum_{t'=t}^T \\gamma^{t' - t}r_{t'}$. With this definition, and by defining the environment as $\\mathcal{E}$, we can rewrite the definition of $Q^*$, using the fundamental recurrence relation that is known as _Bellman's optimality equation_:\n",
    "\n",
    "\\begin{equation*}\n",
    "Q^*(s,a) = \\mathbb{E}_{s' \\sim \\mathcal{E}} \\left [ r + \\gamma \\max_{a'} Q^*(s',a') | s,a \\right ]\n",
    "\\tag{2}\n",
    "\\end{equation*}\n",
    "\n",
    "In cases where this is computationally feasible, one would often implement the _value iteration algorithm_ by using the equation (2) as a update rule to find the policy that maximizes the value for each state. But that would require keeping a table of values for each $(s,a)$ pair; that is, in many cases, intractable, so an alternative is to use an _approximation_ of the function $Q^*(s,a)$ that computes the value given a certain state using a number of paramters which hopefully is much smaller than the cardinality of the set of all possible states and actions."
   ]
  },
  {
   "cell_type": "markdown",
   "metadata": {},
   "source": [
    "\n",
    "## Q-network\n",
    "\n",
    "In our case, the approximation function is a Convolutional Neural Network (CNN) that feeds on the screen of the game (a 2D matrix of integers). We refer to the neural network function approximator as **Q-network** with weights $\\theta$.\n",
    "\n",
    "#### History of states\n",
    "\n",
    "But how do we include the information that comes from the snake that is moving? A wall that is 2 steps ahead may be gone by the time the head reaches it. We could encode the information via a numbering system of the pieces of the snake? Or we could follow the prescription of the Atari paper, i.e. the current situation at time $t$ is not fully understood by the screen $x_t$, but by the sequence of states that occurred before. \n",
    "\n",
    "Therefore we feed the network not just $x_t$, but an observation of a sequence $s_t = x_{t-k},x_{t-k+1},\\dots,x_t$. The Atari paper set $k=4$, i.e. fed the 4 most recent frames to the network.\n",
    "\n",
    "#### Action as input or output?\n",
    "\n",
    "When modeling the function $Q(s,a)$, should the action $a$ be fed as an input like the state $s$? That would be coherent with the mathematical formulation, but it would be complicated since we need to mix convolutional features with this parameter, and also computationally disadvantageous, since to compute the value for every single action we need to feed forward every time. What we can do instead is to build the network to have $n_a$ output neurons, one for each action, given a certain state.\n",
    "\n",
    "#### `PyTorch` implementation\n",
    "\n",
    "We will use the [PyTorch](https://pytorch.org/) library to build the neural network. We will stack several [convolutional layers](https://pytorch.org/docs/stable/generated/torch.nn.Conv2d.html) with different number of kernels, with a final [feed forward hidden layer](https://pytorch.org/docs/stable/generated/torch.nn.Linear.html) to model the $Q(s,a)$. The Q-network model is defined in `dqn.py`."
   ]
  },
  {
   "cell_type": "code",
   "execution_count": 30,
   "metadata": {},
   "outputs": [
    {
     "ename": "TypeError",
     "evalue": "cannot unpack non-iterable int object",
     "output_type": "error",
     "traceback": [
      "\u001b[0;31m---------------------------------------------------------------------------\u001b[0m",
      "\u001b[0;31mTypeError\u001b[0m                                 Traceback (most recent call last)",
      "\u001b[0;32m/tmp/ipykernel_732363/897711869.py\u001b[0m in \u001b[0;36m<module>\u001b[0;34m\u001b[0m\n\u001b[1;32m      6\u001b[0m \u001b[0;34m\u001b[0m\u001b[0m\n\u001b[1;32m      7\u001b[0m \u001b[0;31m# output\u001b[0m\u001b[0;34m\u001b[0m\u001b[0;34m\u001b[0m\u001b[0m\n\u001b[0;32m----> 8\u001b[0;31m \u001b[0mmodel\u001b[0m \u001b[0;34m=\u001b[0m \u001b[0mDQN\u001b[0m\u001b[0;34m(\u001b[0m\u001b[0mconfig\u001b[0m\u001b[0;34m[\u001b[0m\u001b[0;34m'env'\u001b[0m\u001b[0;34m]\u001b[0m\u001b[0;34m[\u001b[0m\u001b[0;34m'history_length'\u001b[0m\u001b[0;34m]\u001b[0m\u001b[0;34m)\u001b[0m\u001b[0;34m\u001b[0m\u001b[0;34m\u001b[0m\u001b[0m\n\u001b[0m\u001b[1;32m      9\u001b[0m \u001b[0mmodel\u001b[0m\u001b[0;34m(\u001b[0m\u001b[0mobs_batch\u001b[0m\u001b[0;34m)\u001b[0m\u001b[0;34m\u001b[0m\u001b[0;34m\u001b[0m\u001b[0m\n",
      "\u001b[0;32m~/snake-rl/src/models/CNN2_relative.py\u001b[0m in \u001b[0;36m__init__\u001b[0;34m(self, input_shape)\u001b[0m\n\u001b[1;32m     18\u001b[0m         \u001b[0msuper\u001b[0m\u001b[0;34m(\u001b[0m\u001b[0mDQN\u001b[0m\u001b[0;34m,\u001b[0m \u001b[0mself\u001b[0m\u001b[0;34m)\u001b[0m\u001b[0;34m.\u001b[0m\u001b[0m__init__\u001b[0m\u001b[0;34m(\u001b[0m\u001b[0;34m)\u001b[0m\u001b[0;34m\u001b[0m\u001b[0;34m\u001b[0m\u001b[0m\n\u001b[1;32m     19\u001b[0m \u001b[0;34m\u001b[0m\u001b[0m\n\u001b[0;32m---> 20\u001b[0;31m         \u001b[0mhistory_length\u001b[0m\u001b[0;34m,\u001b[0m \u001b[0mwidth\u001b[0m\u001b[0;34m,\u001b[0m \u001b[0mheight\u001b[0m \u001b[0;34m=\u001b[0m \u001b[0minput_shape\u001b[0m\u001b[0;34m\u001b[0m\u001b[0;34m\u001b[0m\u001b[0m\n\u001b[0m\u001b[1;32m     21\u001b[0m \u001b[0;34m\u001b[0m\u001b[0m\n\u001b[1;32m     22\u001b[0m         \u001b[0;32mif\u001b[0m \u001b[0;34m(\u001b[0m\u001b[0mwidth\u001b[0m \u001b[0;34m%\u001b[0m \u001b[0;36m2\u001b[0m \u001b[0;34m!=\u001b[0m \u001b[0;36m0\u001b[0m\u001b[0;34m)\u001b[0m \u001b[0;32mor\u001b[0m \u001b[0;34m(\u001b[0m\u001b[0mheight\u001b[0m \u001b[0;34m%\u001b[0m \u001b[0;36m2\u001b[0m \u001b[0;34m!=\u001b[0m \u001b[0;36m0\u001b[0m\u001b[0;34m)\u001b[0m\u001b[0;34m:\u001b[0m\u001b[0;34m\u001b[0m\u001b[0;34m\u001b[0m\u001b[0m\n",
      "\u001b[0;31mTypeError\u001b[0m: cannot unpack non-iterable int object"
     ]
    }
   ],
   "source": [
    "# obs is of shape (history,W,H)\n",
    "obs,_=env.reset(seed=1235)\n",
    "\n",
    "# to feed it to the NN we need ad additional first dimension for batch size. example a batch of 3\n",
    "obs_batch = np.stack((obs,obs,obs),0)\n",
    "\n",
    "# output\n",
    "model = DQN(config['env']['history_length'])\n",
    "model(obs_batch)"
   ]
  },
  {
   "cell_type": "code",
   "execution_count": 5,
   "metadata": {},
   "outputs": [
    {
     "name": "stdout",
     "output_type": "stream",
     "text": [
      "conv1.weight\n",
      "torch.Size([15, 2, 3, 3])\n",
      "conv1.bias\n",
      "torch.Size([15])\n",
      "conv2.weight\n",
      "torch.Size([15, 15, 7, 7])\n",
      "conv2.bias\n",
      "torch.Size([15])\n",
      "conv3.weight\n",
      "torch.Size([15, 15, 2, 2])\n",
      "conv3.bias\n",
      "torch.Size([15])\n",
      "ffl1.weight\n",
      "torch.Size([256, 15])\n",
      "ffl1.bias\n",
      "torch.Size([256])\n",
      "ffl2.weight\n",
      "torch.Size([4, 256])\n",
      "ffl2.bias\n",
      "torch.Size([4])\n"
     ]
    }
   ],
   "source": [
    "for name,param in model.named_parameters():\n",
    "    print(name)\n",
    "    print(param.shape)"
   ]
  },
  {
   "cell_type": "markdown",
   "metadata": {},
   "source": [
    "## Training\n",
    "\n",
    "The Q-network, as previously stated, is an approximation of the more general $Q(s,a)$, for which we cannot know every single value without a functional form (i.e. in a tabular way). Our hope is that the model, given some observed data of the $Q^*(s,a)$, will be able to generalize to unseen states. $Q_{\\pi}(s,a)$ is the expected return in a state given an action when following a policy $\\pi$; when $\\pi$ is assumed to be the optimal policy (the one that maximizes the return), the $Q^*(s,a)$ obeys the Bellman optimality equation we saw earlier.\n",
    "\n",
    "What is usually done, in tabular approaches, is to estimate the $Q_\\pi$ either via Monte Carlo sampling (running episodes following $\\pi$ and computing the returns) or via bootstrapping using TD methods, so using some level of the Bellman equation like \n",
    "\\begin{equation*}\n",
    "Q_{i+1}(s,a) = \\mathbb{E}[r + \\gamma \\max_{a'}Q_i(s',a')|s,a]\n",
    "\\tag{2b}\n",
    "\\end{equation*}\n",
    "\n",
    "When the next action is taken to be $\\argmax_{a'} Q(s',a')$, the previous equation estimates $Q$ using an **on-policy** method (SARSA), but more often than not the next action is not taken as a greedy action, but it's usually a *behaviour policy*, like an $\\epsilon$ greedy policy.\n",
    "\n",
    "When we use an approximation of the function $Q$, we need to fit it to the data that represents the return, i.e. we need to minimize the following loss:\n",
    "\n",
    "\\begin{equation*}\n",
    "\n",
    "L_i (\\theta_i) := \\mathbb{E}_{s,a\\sim \\rho (\\cdot)} \\left [ (y_i - Q(s,a;\\theta_i))^2 \\right ]\n",
    "\n",
    "\\tag{3}\n",
    "\\end{equation*}\n",
    "with $y_i$ being the *target*: \n",
    "\\begin{equation*}\n",
    "y_i := \\mathbb{E}_{s' \\sim \\mathcal{E}} \\left [ r + \\gamma \\max_{a'} Q(s',a';\\theta_{i-1}) | s,a \\right ]\n",
    "\\tag{4}\n",
    "\\end{equation*}\n",
    "\n",
    "as we can see, the target depends on the expected reward and the estimation of the next state value given optimality (and NOT the action picked by the behaviour policy!).\n",
    "\n",
    "When computing the gradient to minimize such loss, we have\n",
    "\n",
    "\\begin{equation*}\n",
    "\\nabla_{\\theta_i} L_i (\\theta_i) = \\mathbb{E}_{s,a \\sim \\rho (\\cdot); s' \\sim \\mathcal{E}} \\left [ \\left ( r + \\gamma \\max_{a'} Q(s',a';\\theta_{i-1}) - Q(s,a;\\theta_{i}) \\right ) \\nabla_{\\theta_i} Q(s,a;\\theta_i) \\right ]\n",
    "\\tag{5}\n",
    "\\end{equation*}\n",
    "\n",
    "Typically, the loss is calculated on a dataset of $(s,a,r,s')$, but it is more feasible to compute it on just a subset of it; when the subset consists of a single sample from the behavioural distribution and the environment, and we update the weights each time step, we arrive at the well known *Q-learning* algorithm.\n"
   ]
  },
  {
   "cell_type": "markdown",
   "metadata": {},
   "source": [
    "### Experience replay\n",
    "\n",
    "Instead of using the sequence of $(s,a,r,s')$ as they are generated, we store them in a *replay memory*, from which we randomly sample a minibatch to perform the update in (5). This has several advantages over the standard online Q-learning: first, the transitions are re-used, to allow a greater data efficiency; second, and most important, the stochastic gradient descent works best when the samples of the expectation are i.i.d., which is **not** the case for subsequent states observed in an episode, which are highly correlated.\n",
    "\n",
    "#### Implementation\n",
    "\n",
    "We will implement the replay memory as a `torch.utils.data.Dataset` class, that holds the transitions and supports interaction with `torch.utils.data.DataLoader` for batching and shuffling."
   ]
  },
  {
   "cell_type": "code",
   "execution_count": 6,
   "metadata": {},
   "outputs": [],
   "source": [
    "class ReplayMemory(Dataset):\n",
    "\n",
    "    def __init__(self,max_capacity):\n",
    "        \n",
    "        # init max_capacity\n",
    "        self.max_capacity = max_capacity\n",
    "        # init samples as empty lists\n",
    "        self.s = []\n",
    "        self.a = []\n",
    "        self.r = []\n",
    "        self.s2 = []\n",
    "        self.terminal = []\n",
    "    \n",
    "    def __len__(self):\n",
    "        return len(self.s) # return length of one of the lists\n",
    "    \n",
    "    def __getitem__(self,idx):\n",
    "        \n",
    "        sample = {\n",
    "            's' : self.s[idx],\n",
    "            'a' : self.a[idx],\n",
    "            'r' : self.r[idx],\n",
    "            's2' : self.s2[idx],\n",
    "            'terminal' : self.terminal[idx]\n",
    "        }\n",
    "\n",
    "        return sample\n",
    "\n",
    "    def _add_sample(self,s,a,r,s2,terminal):\n",
    "        \"\"\"\n",
    "        s and s2 are numpy arrays of shape (history_len,width,height)\n",
    "        a is an int\n",
    "        r is float\n",
    "        \"\"\"\n",
    "        self.s.append(s)\n",
    "        self.a.append(a)\n",
    "        self.r.append(r)\n",
    "        self.s2.append(s2)\n",
    "        self.terminal.append(terminal)\n",
    "        \n",
    "        if self.__len__() > self.max_capacity:\n",
    "            random_drop = np.random.randint(0,self.max_capacity)\n",
    "            self.s.pop(random_drop)\n",
    "            self.a.pop(random_drop)\n",
    "            self.r.pop(random_drop)\n",
    "            self.s2.pop(random_drop)\n",
    "\n"
   ]
  },
  {
   "cell_type": "markdown",
   "metadata": {},
   "source": [
    "#### Policy functions"
   ]
  },
  {
   "cell_type": "code",
   "execution_count": 7,
   "metadata": {},
   "outputs": [],
   "source": [
    "def random_policy():\n",
    "    return np.random.randint(4)\n",
    "\n",
    "def epsilon_greedy_policy(state,epsilon,net):\n",
    "    if isinstance(state,dict):\n",
    "        raise NotImplementedError()\n",
    "    else:\n",
    "        if np.random.rand() < epsilon:\n",
    "            return random_policy()\n",
    "        else:\n",
    "            with torch.no_grad(): # disable gradient calculations. useful when doing inference to skip computation\n",
    "                # find the maximum over the action dim for each batch sample\n",
    "                # but batch_size is one in inference so expand dims\n",
    "                q = net(np.expand_dims(state,axis=0))\n",
    "                a = q.argmax(1).item() \n",
    "                return a # is an int\n",
    "            \n",
    "\n",
    "def play_episode(policy,env,memory=None,**policy_kwargs):\n",
    "    \"\"\"\n",
    "    Play an episode following a given policy, and if ReplayMemory is given adds (s,a,r,s2) transitions to it.\n",
    "    Args:\n",
    "    -----\n",
    "        policy : func, receives a state and returns an action\n",
    "        memory : ReplayMemory instance\n",
    "    Returns:\n",
    "    -----\n",
    "        episode : list of [(s,a,r,s2,done)] tuples\n",
    "    \"\"\"\n",
    "    done = False\n",
    "    episode = []\n",
    "    while not done:\n",
    "        s,_=env.reset()\n",
    "        \n",
    "        a = policy(s,**policy_kwargs)\n",
    "\n",
    "        s2,r,done,_=env.step(a)\n",
    "\n",
    "        if memory is not None:\n",
    "            memory._add_sample(s,a,r,s2,done)\n",
    "        episode.append((s,a,r,s2))\n",
    "    return episode\n"
   ]
  },
  {
   "cell_type": "code",
   "execution_count": 8,
   "metadata": {},
   "outputs": [
    {
     "name": "stderr",
     "output_type": "stream",
     "text": [
      "100%|██████████| 50/50 [00:00<00:00, 148.80it/s]"
     ]
    },
    {
     "name": "stdout",
     "output_type": "stream",
     "text": [
      "Replay Memory size:\n",
      "    891\n",
      "DataLoader screen sample shape:\n",
      "    torch.Size([20, 2, 15, 15])\n",
      "DataLoader terminal sample shape:\n",
      "    torch.Size([20])\n"
     ]
    },
    {
     "name": "stderr",
     "output_type": "stream",
     "text": [
      "\n"
     ]
    }
   ],
   "source": [
    "# play some episodes with a random policy to demonstrate the DataLoader class\n",
    "REPLAY_MEMORY = ReplayMemory(2000)\n",
    "N_EPISODES = 50\n",
    "\n",
    "for i in tqdm.trange(N_EPISODES):\n",
    "    # e=play_episode(lambda s : np.random.randint(4),env,REPLAY_MEMORY)\n",
    "    e = play_episode(epsilon_greedy_policy,env,REPLAY_MEMORY,epsilon=0.1,net=model)\n",
    "\n",
    "#\n",
    "print(\"Replay Memory size:\\n   \", REPLAY_MEMORY.__len__())\n",
    "# now, data_loader is an iterable, and can be used to generate random batches of samples from the replay memory\n",
    "REPLAY_LOADER = DataLoader(REPLAY_MEMORY,batch_size=20,shuffle=True)\n",
    "# as we can see, the shape of one batch of screen inputs is (batch_size,history_length,width,height)\n",
    "print('DataLoader screen sample shape:\\n   ',next(iter(REPLAY_LOADER))['s'].shape)\n",
    "print('DataLoader terminal sample shape:\\n   ',next(iter(REPLAY_LOADER))['terminal'].shape)\n",
    "\n"
   ]
  },
  {
   "cell_type": "markdown",
   "metadata": {},
   "source": [
    "### Loop\n",
    "\n",
    "Now that we defined the network $Q(s,a,\\theta)$, the replay buffer $\\mathcal{D}$, its loader, and the epsilon greedy policy function as an epsilon greedy policy (purely greedy policy means setting $\\epsilon=0$), we can run the training loop. To compute the loss we will use PyTorch's `nn.MSELoss()`, so that we can call the optimizer `optim.Adam` on it."
   ]
  },
  {
   "cell_type": "code",
   "execution_count": 30,
   "metadata": {},
   "outputs": [],
   "source": [
    "# loop parameters\n",
    "N_EPISODES=config['training']['n_episodes']\n",
    "EPSILON=config['training']['epsilon']\n",
    "TAU=config['training']['tau']\n",
    "\n",
    "LR = config['training']['learning_rate']\n",
    "BATCH_SIZE = config['training']['batch_size']\n",
    "\n",
    "GAMMA=config['training']['gamma']\n",
    "BUFFER_SIZE=config['training']['buffer_size']"
   ]
  },
  {
   "cell_type": "code",
   "execution_count": 26,
   "metadata": {},
   "outputs": [],
   "source": [
    "# thetai and thetai-1\n",
    "policy_net = DQN(history_length=config['env']['history_length']) # theta i\n",
    "target_net = DQN(history_length=config['env']['history_length']) # theta i-1, used to compute the target yi\n",
    "# initially clone them\n",
    "target_net.load_state_dict(policy_net.state_dict())\n",
    "\n",
    "# Adam optimizer\n",
    "optimizer = optim.Adam(policy_net.parameters(), lr=LR)\n",
    "# replay memory\n",
    "REPLAY_MEMORY = ReplayMemory(BUFFER_SIZE)"
   ]
  },
  {
   "cell_type": "markdown",
   "metadata": {},
   "source": [
    "Recall the definition of loss in equation (5):\n",
    "\n",
    "\\begin{equation*}\n",
    "\n",
    "L_i (\\theta_i) := \\mathbb{E}_{s,a\\sim \\rho (\\cdot)} \\left [ (y_i - Q(s,a;\\theta_i))^2 \\right ]\n",
    "\n",
    "\\tag{3}\n",
    "\\end{equation*}\n",
    "with $y_i$ being the *target* that uses the previous estimate of $Q$: \n",
    "\\begin{equation*}\n",
    "y_i := \\mathbb{E}_{s' \\sim \\mathcal{E}} \\left [ r + \\gamma \\max_{a'} Q(s',a';\\theta_{i-1}) | s,a \\right ]\n",
    "\\tag{4}\n",
    "\\end{equation*}\n",
    "or just $r$ if the state is terminal."
   ]
  },
  {
   "cell_type": "code",
   "execution_count": 27,
   "metadata": {},
   "outputs": [],
   "source": [
    "def optimize_model():\n",
    "    if REPLAY_MEMORY.__len__() < BATCH_SIZE:\n",
    "        # do not optimize if we do not have enough samples\n",
    "        return\n",
    "    # data loader\n",
    "    data_loader = DataLoader(REPLAY_MEMORY,BATCH_SIZE,True)\n",
    "\n",
    "    # get a batch\n",
    "    batch=next(iter(data_loader))\n",
    "\n",
    "\n",
    "    # Compute a mask of non-final states and concatenate the batch elements\n",
    "    # (a final state would've been the one after which simulation ended)\n",
    "    non_final_mask = torch.logical_not(batch['terminal'])\n",
    "    non_final_next_states = batch['s2'][non_final_mask]\n",
    "    state_batch = batch['s']\n",
    "    action_batch = batch['a']\n",
    "    reward_batch = batch['r']\n",
    "\n",
    "    # Compute Q(s_t, a) - the model computes Q(s_t), then we select the\n",
    "    # columns of actions taken. These are the actions which would've been taken\n",
    "    # for each batch state according to policy_net\n",
    "    state_action_values = policy_net(state_batch.numpy()).gather(1,action_batch[:,None])\n",
    "\n",
    "    # Compute V(s_{t+1}) for all next states.\n",
    "    # Expected values of actions for non_final_next_states are computed based\n",
    "    # on the \"older\" target_net; selecting their best reward with max(1)[0].\n",
    "    # This is merged based on the mask, such that we'll have either the expected\n",
    "    # state value or 0 in case the state was final.\n",
    "    next_state_values = torch.zeros(BATCH_SIZE)\n",
    "    with torch.no_grad():\n",
    "        # compute\n",
    "        next_state_values[non_final_mask] = target_net(non_final_next_states.numpy()).max(1)[0]\n",
    "    # Compute the expected Q values\n",
    "    expected_state_action_values = (next_state_values * GAMMA) + reward_batch\n",
    "\n",
    "    # Compute loss\n",
    "    criterion = nn.MSELoss()\n",
    "    loss = criterion(state_action_values, expected_state_action_values.unsqueeze(1))\n",
    "\n",
    "    # Optimize the model\n",
    "    optimizer.zero_grad()\n",
    "    loss.backward()\n",
    "    # In-place gradient clipping\n",
    "    torch.nn.utils.clip_grad_value_(policy_net.parameters(), 100)\n",
    "    optimizer.step()"
   ]
  },
  {
   "cell_type": "code",
   "execution_count": 36,
   "metadata": {},
   "outputs": [],
   "source": [
    "def train(n_episodes):\n",
    "    episode_durations=[]\n",
    "\n",
    "    for i_episode in tqdm.trange(n_episodes):\n",
    "\n",
    "        state,_ = env.reset()\n",
    "        for t in count():\n",
    "            action = epsilon_greedy_policy(state,epsilon=EPSILON,net=policy_net)\n",
    "            next_state, reward, done, _ = env.step(action)\n",
    "\n",
    "\n",
    "\n",
    "            # Store the transition in memory\n",
    "            REPLAY_MEMORY._add_sample(state,action,reward,next_state,done)\n",
    "\n",
    "            # Move to the next state\n",
    "            state = next_state\n",
    "\n",
    "            # Perform one step of the optimization (on the policy network)\n",
    "            optimize_model()\n",
    "\n",
    "            # Soft update of the target network's weights\n",
    "            # θ′ ← τ θ + (1 −τ )θ′\n",
    "            target_net_state_dict = target_net.state_dict()\n",
    "            policy_net_state_dict = policy_net.state_dict()\n",
    "            for key in policy_net_state_dict:\n",
    "                target_net_state_dict[key] = policy_net_state_dict[key]*TAU + target_net_state_dict[key]*(1-TAU)\n",
    "            target_net.load_state_dict(target_net_state_dict)\n",
    "            if done:\n",
    "                episode_durations.append(t+1)\n",
    "                break\n",
    "            \n",
    "    return episode_durations"
   ]
  },
  {
   "cell_type": "code",
   "execution_count": 38,
   "metadata": {},
   "outputs": [
    {
     "name": "stderr",
     "output_type": "stream",
     "text": [
      "100%|██████████| 500/500 [01:25<00:00,  5.82it/s]\n",
      "100%|██████████| 500/500 [01:10<00:00,  7.11it/s]\n",
      "100%|██████████| 500/500 [01:27<00:00,  5.70it/s]\n",
      "100%|██████████| 500/500 [02:02<00:00,  4.08it/s]\n"
     ]
    }
   ],
   "source": [
    "lrs = [10,1,0.1,0.01]\n",
    "durations = []\n",
    "for lr in lrs:\n",
    "    optimizer = optim.Adam(policy_net.parameters(), lr=lr)\n",
    "    policy_net = DQN(history_length=config['env']['history_length'])\n",
    "    target_net = DQN(history_length=config['env']['history_length'])\n",
    "    target_net.load_state_dict(policy_net.state_dict())\n",
    "    durations.append(train(500))\n",
    "\n"
   ]
  },
  {
   "cell_type": "code",
   "execution_count": 44,
   "metadata": {},
   "outputs": [
    {
     "data": {
      "image/png": "[encoded data removed]",
      "text/plain": [
       "<Figure size 640x480 with 1 Axes>"
      ]
     },
     "metadata": {},
     "output_type": "display_data"
    }
   ],
   "source": [
    "from scipy.signal import convolve\n",
    "fig,ax = plt.subplots()\n",
    "for lr,duration in zip(lrs,durations):\n",
    "    ax.plot(convolve(duration,np.ones(50)/50,'valid'),label='lr='+str(lr),alpha=0.7)\n",
    "ax.legend()\n",
    "plt.show()"
   ]
  },
  {
   "cell_type": "code",
   "execution_count": 22,
   "metadata": {},
   "outputs": [],
   "source": [
    "torch.save(policy_net,'./checkpoint/policy_net.pth')"
   ]
  },
  {
   "cell_type": "code",
   "execution_count": 62,
   "metadata": {},
   "outputs": [
    {
     "name": "stdout",
     "output_type": "stream",
     "text": [
      "Observation shape:\n",
      "(3, 8, 8)\n",
      "Latest observation:\n",
      "[[ 0  0  0  0  0  0  0 -1]\n",
      " [ 0  0  0  0  0  0  1  0]\n",
      " [ 0  0  0  0  0  0  0  0]\n",
      " [ 0  0  0  0  0  0  0  0]\n",
      " [ 0  0  0  0  0  0  0  0]\n",
      " [ 0  0  0  0  0  0  0  0]\n",
      " [ 0  0  0  0  0  0  0  0]\n",
      " [ 0  0  0  0  0  0  0  0]]\n"
     ]
    },
    {
     "data": {
      "image/png": "[encoded data removed]",
      "text/plain": [
       "<Figure size 640x480 with 3 Axes>"
      ]
     },
     "metadata": {},
     "output_type": "display_data"
    }
   ],
   "source": [
    "env = SnakeEnv(**config['env'])\n",
    "\n",
    "obs,_ = env.reset(123)\n",
    "print(\"Observation shape:\")\n",
    "print(obs.shape)\n",
    "print(\"Latest observation:\")\n",
    "print(obs[0])\n",
    "\n",
    "fig,axs = plt.subplots(1,config['env']['history_length'])\n",
    "for i,(ax,ob) in enumerate(zip(axs,obs)):\n",
    "    # 1 is the snake, -1 is the food\n",
    "    ax.pcolormesh(ob,cmap='viridis',edgecolors='white',linewidth=0.5)\n",
    "    ax.set_title('$S_{t-'+str(i)+'}$')\n",
    "    ax.set_aspect('equal')\n",
    "\n",
    "\n",
    "plt.suptitle('Screen')\n",
    "plt.show()"
   ]
  },
  {
   "cell_type": "code",
   "execution_count": 63,
   "metadata": {},
   "outputs": [],
   "source": [
    "env.step(0)\n",
    "obs,reward,temrinated,info=env.step(0)\n",
    "\n"
   ]
  },
  {
   "cell_type": "code",
   "execution_count": 64,
   "metadata": {},
   "outputs": [
    {
     "data": {
      "text/plain": [
       "array([[[ 0,  0,  0,  0,  0,  0,  0,  1],\n",
       "        [ 0,  0, -1,  0,  0,  0,  0,  2],\n",
       "        [ 0,  0,  0,  0,  0,  0,  0,  0],\n",
       "        [ 0,  0,  0,  0,  0,  0,  0,  0],\n",
       "        [ 0,  0,  0,  0,  0,  0,  0,  0],\n",
       "        [ 0,  0,  0,  0,  0,  0,  0,  0],\n",
       "        [ 0,  0,  0,  0,  0,  0,  0,  0],\n",
       "        [ 0,  0,  0,  0,  0,  0,  0,  0]],\n",
       "\n",
       "       [[ 0,  0,  0,  0,  0,  0,  0, -1],\n",
       "        [ 0,  0,  0,  0,  0,  0,  0,  1],\n",
       "        [ 0,  0,  0,  0,  0,  0,  0,  0],\n",
       "        [ 0,  0,  0,  0,  0,  0,  0,  0],\n",
       "        [ 0,  0,  0,  0,  0,  0,  0,  0],\n",
       "        [ 0,  0,  0,  0,  0,  0,  0,  0],\n",
       "        [ 0,  0,  0,  0,  0,  0,  0,  0],\n",
       "        [ 0,  0,  0,  0,  0,  0,  0,  0]],\n",
       "\n",
       "       [[ 0,  0,  0,  0,  0,  0,  0, -1],\n",
       "        [ 0,  0,  0,  0,  0,  0,  1,  0],\n",
       "        [ 0,  0,  0,  0,  0,  0,  0,  0],\n",
       "        [ 0,  0,  0,  0,  0,  0,  0,  0],\n",
       "        [ 0,  0,  0,  0,  0,  0,  0,  0],\n",
       "        [ 0,  0,  0,  0,  0,  0,  0,  0],\n",
       "        [ 0,  0,  0,  0,  0,  0,  0,  0],\n",
       "        [ 0,  0,  0,  0,  0,  0,  0,  0]]])"
      ]
     },
     "execution_count": 64,
     "metadata": {},
     "output_type": "execute_result"
    }
   ],
   "source": [
    "obs"
   ]
  },
  {
   "cell_type": "code",
   "execution_count": null,
   "metadata": {},
   "outputs": [],
   "source": []
  }
 ],
 "metadata": {
  "kernelspec": {
   "display_name": "Python 3 (ipykernel)",
   "language": "python",
   "name": "python3"
  },
  "language_info": {
   "codemirror_mode": {
    "name": "ipython",
    "version": 3
   },
   "file_extension": ".py",
   "mimetype": "text/x-python",
   "name": "python",
   "nbconvert_exporter": "python",
   "pygments_lexer": "ipython3",
   "version": "3.9.13"
  },
  "vscode": {
   "interpreter": {
    "hash": "caf1c2fcf97217de91eafa76b907d50f9ea378f5ffbee7f571142d119bb6a771"
   }
  }
 },
 "nbformat": 4,
 "nbformat_minor": 2
}
