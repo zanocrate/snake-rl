{
 "cells": [
  {
   "cell_type": "code",
   "execution_count": 1,
   "metadata": {},
   "outputs": [],
   "source": [
    "import os\n",
    "\n",
    "os.chdir('/home/ubuntu/snake-rl/')\n",
    "\n",
    "from src.env import SnakeEnv\n",
    "from src.models.CNN2_relative import DQN\n",
    "import json\n",
    "import torch\n",
    "import matplotlib.pyplot as plt\n",
    "from pprint import pprint\n",
    "\n",
    "from src.replaymemory import *"
   ]
  },
  {
   "cell_type": "code",
   "execution_count": 2,
   "metadata": {},
   "outputs": [
    {
     "name": "stdout",
     "output_type": "stream",
     "text": [
      "{'action_space_type': 'absolute',\n",
      " 'food_reward': 1000,\n",
      " 'height': 10,\n",
      " 'history_length': 2,\n",
      " 'max_steps': 500,\n",
      " 'observation_type': 'full',\n",
      " 'periodic': False,\n",
      " 'step_penalty': -1,\n",
      " 'terminated_penalty': -1000,\n",
      " 'width': 10}\n"
     ]
    }
   ],
   "source": [
    "with open('config.json') as f:\n",
    "    config = json.load(f)\n",
    "\n",
    "config['env']['action_space_type']='absolute'\n",
    "pprint(config['env'])\n",
    "env=SnakeEnv(**config['env'])"
   ]
  },
  {
   "cell_type": "code",
   "execution_count": 3,
   "metadata": {},
   "outputs": [
    {
     "data": {
      "image/png": "[encoded data removed]",
      "text/plain": [
       "<Figure size 640x480 with 4 Axes>"
      ]
     },
     "metadata": {},
     "output_type": "display_data"
    }
   ],
   "source": [
    "s1,_=env.reset(123)\n",
    "a = 2 # go forward\n",
    "s2,r,done,_ = env.step(a)\n",
    "\n",
    "k=3\n",
    "\n",
    "input_shape=s1.shape\n",
    "\n",
    "fig,axs = plt.subplots(2,input_shape[0])\n",
    "\n",
    "fig.suptitle('Action: forward, rotated {} times'.format(k))\n",
    "\n",
    "for i,(frame,ax) in enumerate(zip([s1[0],s2[0]],axs[0])):\n",
    "\n",
    "    ax.imshow(frame)\n",
    "    ax.set_title('State {}'.format(i+1))\n",
    "    # ax.set_xticks([],[])\n",
    "    # ax.set_yticks([],[])\n",
    "\n",
    "s1_rot = np.rot90(s1,k=k,axes=(1,2))\n",
    "s2_rot = np.rot90(s2,k=k,axes=(1,2))\n",
    "\n",
    "for i,(frame,ax) in enumerate(zip([s1_rot[0],s2_rot[0]],axs[1])):\n",
    "    ax.imshow(frame)\n",
    "    # ax.set_title('State {} rot'.format(i+1))\n",
    "    # ax.set_xticks([],[])\n",
    "    # ax.set_yticks([],[])"
   ]
  },
  {
   "cell_type": "code",
   "execution_count": 4,
   "metadata": {},
   "outputs": [
    {
     "name": "stdout",
     "output_type": "stream",
     "text": [
      "{0: array([0, 1]), 1: array([1, 0]), 2: array([ 0, -1]), 3: array([-1,  0])}\n",
      "2\n",
      "[ 0 -1]\n"
     ]
    },
    {
     "data": {
      "text/plain": [
       "array([-1,  0])"
      ]
     },
     "execution_count": 4,
     "metadata": {},
     "output_type": "execute_result"
    }
   ],
   "source": [
    "pprint(env._int_to_direction)\n",
    "\n",
    "print(a)\n",
    "\n",
    "rot_mat=np.array([[0,1],[-1,0]])\n",
    "print(env._int_to_direction[a])\n",
    "rot_mat @ env._int_to_direction[a]"
   ]
  },
  {
   "cell_type": "code",
   "execution_count": 20,
   "metadata": {},
   "outputs": [
    {
     "name": "stdout",
     "output_type": "stream",
     "text": [
      "4\n"
     ]
    }
   ],
   "source": [
    "from src.replaymemory import ReplayMemory\n",
    "\n",
    "replay_memory = ReplayMemory(10,s1.shape,'absolute')\n",
    "\n",
    "replay_memory._add_sample(s1,a,r,s2,done)\n",
    "\n",
    "print(replay_memory.__len__())\n"
   ]
  },
  {
   "cell_type": "code",
   "execution_count": 24,
   "metadata": {},
   "outputs": [
    {
     "name": "stdout",
     "output_type": "stream",
     "text": [
      "tensor([[ 0.,  0.,  0.,  0.,  0.,  1.,  0.,  0.,  0., -1.],\n",
      "        [ 0.,  0.,  0.,  0.,  0.,  0.,  0.,  0.,  0.,  0.],\n",
      "        [ 0.,  0.,  0.,  0.,  0.,  0.,  0.,  0.,  0.,  0.],\n",
      "        [ 0.,  0.,  0.,  0.,  0.,  0.,  0.,  0.,  0.,  0.],\n",
      "        [ 0.,  0.,  0.,  0.,  0.,  0.,  0.,  0.,  0.,  0.],\n",
      "        [ 0.,  0.,  0.,  0.,  0.,  0.,  0.,  0.,  0.,  0.],\n",
      "        [ 0.,  0.,  0.,  0.,  0.,  0.,  0.,  0.,  0.,  0.],\n",
      "        [ 0.,  0.,  0.,  0.,  0.,  0.,  0.,  0.,  0.,  0.],\n",
      "        [ 0.,  0.,  0.,  0.,  0.,  0.,  0.,  0.,  0.,  0.],\n",
      "        [ 0.,  0.,  0.,  0.,  0.,  0.,  0.,  0.,  0.,  0.]])\n",
      "2\n",
      "[ 0 -1]\n",
      "tensor([[ 0.,  0.,  0.,  0.,  1.,  0.,  0.,  0.,  0., -1.],\n",
      "        [ 0.,  0.,  0.,  0.,  0.,  0.,  0.,  0.,  0.,  0.],\n",
      "        [ 0.,  0.,  0.,  0.,  0.,  0.,  0.,  0.,  0.,  0.],\n",
      "        [ 0.,  0.,  0.,  0.,  0.,  0.,  0.,  0.,  0.,  0.],\n",
      "        [ 0.,  0.,  0.,  0.,  0.,  0.,  0.,  0.,  0.,  0.],\n",
      "        [ 0.,  0.,  0.,  0.,  0.,  0.,  0.,  0.,  0.,  0.],\n",
      "        [ 0.,  0.,  0.,  0.,  0.,  0.,  0.,  0.,  0.,  0.],\n",
      "        [ 0.,  0.,  0.,  0.,  0.,  0.,  0.,  0.,  0.,  0.],\n",
      "        [ 0.,  0.,  0.,  0.,  0.,  0.,  0.,  0.,  0.,  0.],\n",
      "        [ 0.,  0.,  0.,  0.,  0.,  0.,  0.,  0.,  0.,  0.]])\n",
      "\n",
      "\n",
      "\n",
      "\n",
      "tensor([[ 0.,  0.,  0.,  0.,  0.,  0.,  0.,  0.,  0.,  0.],\n",
      "        [ 0.,  0.,  0.,  0.,  0.,  0.,  0.,  0.,  0.,  0.],\n",
      "        [ 0.,  0.,  0.,  0.,  0.,  0.,  0.,  0.,  0.,  0.],\n",
      "        [ 0.,  0.,  0.,  0.,  0.,  0.,  0.,  0.,  0.,  0.],\n",
      "        [ 0.,  0.,  0.,  0.,  0.,  0.,  0.,  0.,  0.,  0.],\n",
      "        [ 0.,  0.,  0.,  0.,  0.,  0.,  0.,  0.,  0.,  0.],\n",
      "        [ 0.,  0.,  0.,  0.,  0.,  0.,  0.,  0.,  0.,  0.],\n",
      "        [ 0.,  0.,  0.,  0.,  0.,  0.,  0.,  0.,  0.,  0.],\n",
      "        [ 0.,  0.,  0.,  0.,  0.,  0.,  0.,  0.,  0.,  0.],\n",
      "        [-1.,  0.,  0.,  0.,  1.,  0.,  0.,  0.,  0.,  0.]])\n",
      "tensor(3)\n",
      "[-1  0]\n",
      "tensor([[ 0.,  0.,  0.,  0.,  0.,  0.,  0.,  0.,  0.,  0.],\n",
      "        [ 0.,  0.,  0.,  0.,  0.,  0.,  0.,  0.,  0.,  0.],\n",
      "        [ 0.,  0.,  0.,  0.,  0.,  0.,  0.,  0.,  0.,  0.],\n",
      "        [ 0.,  0.,  0.,  0.,  0.,  0.,  0.,  0.,  0.,  0.],\n",
      "        [ 0.,  0.,  0.,  0.,  0.,  0.,  0.,  0.,  0.,  0.],\n",
      "        [ 0.,  0.,  0.,  0.,  0.,  0.,  0.,  0.,  0.,  0.],\n",
      "        [ 0.,  0.,  0.,  0.,  0.,  0.,  0.,  0.,  0.,  0.],\n",
      "        [ 0.,  0.,  0.,  0.,  0.,  0.,  0.,  0.,  0.,  0.],\n",
      "        [ 0.,  0.,  0.,  0.,  0.,  0.,  0.,  0.,  0.,  0.],\n",
      "        [-1.,  0.,  0.,  0.,  0.,  1.,  0.,  0.,  0.,  0.]])\n"
     ]
    }
   ],
   "source": [
    "print(replay_memory[0]['s'][0])\n",
    "print(replay_memory[0]['a'].item())\n",
    "print(env._int_to_direction[replay_memory[0]['a'].item()])\n",
    "print(replay_memory[0]['s2'][0])\n",
    "\n",
    "print('\\n\\n\\n')\n",
    "\n",
    "print(replay_memory[2]['s'][0])\n",
    "print(replay_memory[2]['a'])\n",
    "print(env._int_to_direction[replay_memory[2]['a'].item()])\n",
    "print(replay_memory[2]['s2'][0])"
   ]
  },
  {
   "cell_type": "code",
   "execution_count": null,
   "metadata": {},
   "outputs": [],
   "source": []
  },
  {
   "cell_type": "code",
   "execution_count": null,
   "metadata": {},
   "outputs": [],
   "source": []
  }
 ],
 "metadata": {
  "interpreter": {
   "hash": "caf1c2fcf97217de91eafa76b907d50f9ea378f5ffbee7f571142d119bb6a771"
  },
  "kernelspec": {
   "display_name": "Python 3.9.13 64-bit ('base': conda)",
   "language": "python",
   "name": "python3"
  },
  "language_info": {
   "codemirror_mode": {
    "name": "ipython",
    "version": 3
   },
   "file_extension": ".py",
   "mimetype": "text/x-python",
   "name": "python",
   "nbconvert_exporter": "python",
   "pygments_lexer": "ipython3",
   "version": "3.9.13"
  },
  "orig_nbformat": 4
 },
 "nbformat": 4,
 "nbformat_minor": 2
}
